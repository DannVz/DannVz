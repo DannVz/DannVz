{
  "nbformat": 4,
  "nbformat_minor": 0,
  "metadata": {
    "colab": {
      "name": "Python",
      "provenance": [],
      "collapsed_sections": [],
      "toc_visible": true,
      "authorship_tag": "ABX9TyNYdOiI6YInIWyMEODqnxN1",
      "include_colab_link": true
    },
    "kernelspec": {
      "name": "python3",
      "display_name": "Python 3"
    },
    "language_info": {
      "name": "python"
    }
  },
  "cells": [
    {
      "cell_type": "markdown",
      "metadata": {
        "id": "view-in-github",
        "colab_type": "text"
      },
      "source": [
        "<a href=\"https://colab.research.google.com/github/DannVz/DannVz/blob/main/Python.ipynb\" target=\"_parent\"><img src=\"https://colab.research.google.com/assets/colab-badge.svg\" alt=\"Open In Colab\"/></a>"
      ]
    },
    {
      "cell_type": "markdown",
      "metadata": {
        "id": "7wnexfDtA3rG"
      },
      "source": [
        "\n",
        "#**What is python?**`\n",
        "\n",
        "![IMAGEN.pnj](http://lineadecodigo.com/wp-content/uploads/2015/11/python_logo.png)\n",
        "\n",
        "Python is a high-level, object-oriented programming language with integrated dynamic semantics, primarily for web and computer application development. dynamic binding.\n",
        "\n",
        "Python is relatively simple, making it easy to learn, as it requires a unique syntax that focuses on readability. Developers can read and translate and this reduces the cost of program maintenance and development by allowing teams to work collaboratively without significant barriers of language and experimentation.\n",
        "\n",
        "Furthermore, it supports the use of modules and packages, which means that programs can be designed in a modular style and the code can be reused in various projects. Once a module or package has been developed, it can be scaled for use in other projects.\n",
        "\n",
        "On the other hand, one of the most important benefits of Python is that both the standard library and the interpreter are freely available, both in binary form and in source form.\n",
        "\n",
        "It is a cross-platform option, quite tempting for developers who do not want to worry about paying high development costs.\n",
        "\n",
        "\n",
        "![imagen.png](https://cdn.computerhoy.com/sites/navi.axelspringer.es/public/styles/480/public/media/image/2019/06/python.jpg?itok=XqTS1eVy)\n",
        "\n"
      ]
    },
    {
      "cell_type": "markdown",
      "metadata": {
        "id": "w1M8_yQNBdRe"
      },
      "source": [
        "# **Python history**\n",
        "\n",
        "Python was created by computer scientist Guido van Rossum, who had been working with a language called ABC in his previous job at the Centrum Wiskunde & Informática (CWI) - National Research Institute in Mathematics and Informatics in the Netherlands.\n",
        "\n",
        "Although he liked some aspects of ABC, he was frustrated by how difficult this language was to spread.\n",
        "\n",
        "The history of Python as a programming language begins one Christmas in the late 80s (1989) and the early 90s (1991) was when the first public version was developed under the name USENET.\n",
        "\n",
        "Being already a development history of 32 years.\n",
        "\n",
        "![IMAGEN.PNJ](https://image.slidesharecdn.com/lineadetiempo-140401210023-phpapp01/95/linea-de-tiempo-1-638.jpg?cb=1396386044)"
      ]
    },
    {
      "cell_type": "markdown",
      "metadata": {
        "id": "IcVaccbYDdRn"
      },
      "source": [
        "# **How Python works?**\n",
        "\n",
        "The Python programming language uses code modules that are interchangeable rather than the long list of instructions that was standard for functional programming languages.\n",
        "\n",
        "The standard Python implementation is called \"cpython\". Ultimately, it does not convert your code into machine language or machine code, something that hardware can understand.\n",
        "\n",
        "Actually, it turns it into something called byte code. This byte code cannot be understood by the CPU. So we need an interpreter called Python Virtual Machine (PVM) that executes the bytecodes.\n",
        "\n",
        "The Python interpreter performs the following tasks to run a program:\n",
        "\n",
        "* Step 1: The interpreter reads a python code or instruction. Then it checks that the instruction is well formatted, that is, it checks the syntax of each line. If it finds any errors, it immediately stops the translation and displays an error message.\n",
        "\n",
        "* Step 2: If there are no errors, that is, if the instruction or python code is well formatted, the interpreter translates it into its equivalent form in an intermediate language called \"Byte code\". Thus, after successful execution of script or python code, it is completely translated into Byte code.\n",
        "\n",
        "* Step 3: The byte code is sent to the Python Virtual Machine, where the byte code is again executed in PVM. If an error occurs during this run, the run stops with an error message.\n",
        "\n",
        "![IMAGEN.PNJ](https://www.cacheme.org/wp-content/uploads/2014/01/empresas-python.png)\n"
      ]
    },
    {
      "cell_type": "markdown",
      "metadata": {
        "id": "QMqwCrZnEqEc"
      },
      "source": [
        "# **Print statement**\n",
        "\n",
        "Python's print () function takes any number of parameters and prints them to one line of text. Each of the elements is converted to text format, separated by spaces, and there is a single '\\ n' at the end (the \"new line\" character). When called with zero parameters, print () only prints the '\\ n' and nothing else. In the interpreter, the standard output is displayed on the screen between the '>>>' prompts, so it's an easy way to see what print () means.\n",
        "\n",
        "## **Example**\n"
      ]
    },
    {
      "cell_type": "code",
      "metadata": {
        "id": "c9EXSqaD9aht"
      },
      "source": [
        ">>> print (\"Hello word\")\n",
        "\n",
        ">>> print (13, 11, 2)\n",
        "\n",
        ">>> print (\"Hola\", \"estas ahí ?\",)\n",
        "\n",
        ">>> print (\"Buenas buenas\")  # 1 artículo , 1 \\ n\n",
        "\n",
        ">>> print ()         # 0 articulos, 1 \\ n\n",
        "\n",
        ">>>\n",
        "\n"
      ],
      "execution_count": null,
      "outputs": []
    },
    {
      "cell_type": "markdown",
      "metadata": {
        "id": "yDSqqc4g0ten"
      },
      "source": [
        "# **If-else statement**\n",
        "\n",
        "The if ... else ... control structure allows a program to execute some instructions when a condition is met and other instructions when that condition is not met. In English \"if\" means \"if\" (condition) and \"else\" means \"if not\". The command in Python is written like this:\n",
        "\n",
        "if condition:\n",
        "    here are the orders that are executed if the condition is true\n",
        "    \n",
        "\n",
        "else:\n",
        "    and here are the orders that are executed if the condition is\n",
        "    false\n",
        "\n",
        "## **The execution of this construction is as follows::**\n",
        "\n",
        "###The condition is always evaluated.\n",
        "\n",
        "* If the result is True, only statement block 1 is executed\n",
        "\n",
        "* If the result is False, only statement block 2 is executed."
      ]
    },
    {
      "cell_type": "code",
      "metadata": {
        "id": "uEVjoDSqASwl"
      },
      "source": [
        "edad = int(input(\"¿Cuántos años tiene? \"))\n",
        "if edad < 0:\n",
        "    print(\"No puede tener años negativos\")\n",
        "elif edad < 18:\n",
        "    print(\"Es usted menor de edad\")\n",
        "else:\n",
        "    print(\"Es usted mayor de edad\")\n"
      ],
      "execution_count": null,
      "outputs": []
    },
    {
      "cell_type": "markdown",
      "metadata": {
        "id": "0A0OV9A4Ex2U"
      },
      "source": [
        "# **Loops**\n",
        "\n",
        "The for loop is used to go through the elements of an iterable object (list, tuple, set, dictionary, ...) and execute a block of code. In each step of the iteration, a single element of the iterable object is taken into account, on which a series of operations can be applied.\n",
        "\n",
        "Its syntax is as follows:\n",
        "\n",
        "for < elem > in < iterable >:\n",
        "  < Tu código >\n",
        "\n",
        "Here, elem is the variable that takes the value of the element within the iterator at each step of the loop. This ends its execution when all the elements are crossed."
      ]
    },
    {
      "cell_type": "code",
      "metadata": {
        "id": "EnZM7q92DSAU"
      },
      "source": [
        "print(\"Esto es un bucle\")\n",
        "A=14\n",
        "for i in range(A):\n",
        "    print(i, \"Hola\")\n",
        "print(\"Y hasta aqui llego el blucle\")\n",
        "\n",
        "\n",
        "\n"
      ],
      "execution_count": null,
      "outputs": []
    }
  ]
}